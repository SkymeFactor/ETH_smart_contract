{
 "cells": [
  {
   "cell_type": "code",
   "execution_count": 1,
   "metadata": {},
   "outputs": [],
   "source": [
    "from web3 import Web3\n",
    "from solcx import compile_files\n",
    "import json"
   ]
  },
  {
   "cell_type": "code",
   "execution_count": 2,
   "metadata": {},
   "outputs": [
    {
     "name": "stdout",
     "output_type": "stream",
     "text": [
      "True\n"
     ]
    }
   ],
   "source": [
    "# Connect to an ethereum provider via the http\n",
    "w3 = Web3(Web3.HTTPProvider('http://127.0.0.1:8545'))\n",
    "print(w3.isConnected())"
   ]
  },
  {
   "cell_type": "code",
   "execution_count": 3,
   "metadata": {},
   "outputs": [
    {
     "data": {
      "text/plain": [
       "AttributeDict({'hash': HexBytes('0x26a1431f45a838f9562e43fb4b0b6d065b1ce3ffe8d835704242f888744a9384'),\n",
       " 'nonce': 0,\n",
       " 'blockHash': HexBytes('0x1482879bb21ea9928f48e648f663df2759f3a8340f2f70b0c2b242f0f5593798'),\n",
       " 'blockNumber': 1,\n",
       " 'transactionIndex': 0,\n",
       " 'from': '0x5E346Cdbf5406ECd95Fd6F6BA448BA30395172d4',\n",
       " 'to': '0x938024E7021854d91bC7f34311c2c9C60f12104f',\n",
       " 'value': 500000000000000000,\n",
       " 'gas': 121000,\n",
       " 'gasPrice': 20000000000,\n",
       " 'input': '0x',\n",
       " 'v': 38,\n",
       " 'r': HexBytes('0x5dc158aa49a5da617b4183bbbe3a34926e36d8b0ee57200d66215bcbaeb33001'),\n",
       " 's': HexBytes('0x33d2051996e2ee214e25ed4e82d158e2468c497305496f89ae14247616a26352')})"
      ]
     },
     "execution_count": 3,
     "metadata": {},
     "output_type": "execute_result"
    }
   ],
   "source": [
    "# Test block intended to show that everything works as expected\n",
    "tx = {\n",
    "    \"from\": w3.eth.accounts[1],\n",
    "    \"to\": w3.eth.accounts[0],\n",
    "    \"value\": w3.toWei(0.5, 'ether')\n",
    "}\n",
    "gas = w3.eth.estimateGas(tx)\n",
    "tx_hash = w3.eth.send_transaction(tx)\n",
    "w3.eth.waitForTransactionReceipt(tx_hash)\n",
    "w3.eth.getTransaction(tx_hash)"
   ]
  },
  {
   "cell_type": "code",
   "execution_count": 4,
   "metadata": {},
   "outputs": [],
   "source": [
    "# In this block we are creating and deploying a contract from .sol file\n",
    "def deploy_contract(contract_interface):\n",
    "    Wallet = w3.eth.contract(\n",
    "        abi=contract_interface['abi'],\n",
    "        bytecode=contract_interface['bin']\n",
    "    )\n",
    "    w3.eth.defaultAccount = w3.eth.accounts[0]\n",
    "    tx_hash = Wallet.constructor().transact()\n",
    "    tx_receipt = w3.eth.waitForTransactionReceipt(tx_hash)\n",
    "    return tx_receipt['contractAddress']\n",
    "\n",
    "compiled_sol = compile_files(['contracts/wallet.sol'], output_values=[\"abi\", \"bin\"])\n",
    "_, contract_interface = compiled_sol.popitem()\n",
    "\n",
    "with open('eth_MyWallet.json', 'w') as outfile:\n",
    "    data = {\n",
    "        \"abi\": contract_interface['abi'],\n",
    "        \"contract_address\": deploy_contract(contract_interface)\n",
    "    }\n",
    "    json.dump(data, outfile)"
   ]
  },
  {
   "cell_type": "code",
   "execution_count": 5,
   "metadata": {},
   "outputs": [],
   "source": [
    "# In this block we read the data from saved contract\n",
    "with open('eth_MyWallet.json', 'r') as infile:\n",
    "    data = json.load(infile)\n",
    "    contract = w3.eth.contract(abi=data['abi'], address=data['contract_address'])"
   ]
  },
  {
   "cell_type": "code",
   "execution_count": 6,
   "metadata": {},
   "outputs": [
    {
     "name": "stdout",
     "output_type": "stream",
     "text": [
      "User's total balance = 10\n",
      "Owners fee = 0.1 ether\n",
      "Owners balance = 0.1\n",
      "Transaction history: 99.49958 -> -10.00084328 -> +4.89874078 = 94.3974775\n",
      "Ether loss = 0.1021025\n"
     ]
    }
   ],
   "source": [
    "#-----------------------------------------------\n",
    "# Test outer transfers\n",
    "#-----------------------------------------------\n",
    "w3.eth.defaultAccount = w3.eth.accounts[1]\n",
    "user_balance = []\n",
    "\n",
    "#-----------------------------------------------\n",
    "# Send ether to the Wallet\n",
    "#-----------------------------------------------\n",
    "user_balance.append(w3.fromWei(w3.eth.getBalance(w3.eth.accounts[1]), 'ether'))\n",
    "tx_hash = w3.eth.send_transaction({\"to\": contract.address, \"value\": w3.toWei(10, 'ether')})\n",
    "w3.eth.waitForTransactionReceipt(tx_hash)\n",
    "print(\"User's total balance =\", w3.fromWei(contract.functions.getBalance(w3.eth.accounts[1]).call(), 'ether'))\n",
    "\n",
    "#-----------------------------------------------\n",
    "# Extract ether from wallet\n",
    "#-----------------------------------------------\n",
    "owner_balance = contract.functions.getBalance(w3.eth.accounts[0]).call()\n",
    "user_balance.append(w3.fromWei(w3.eth.getBalance(w3.eth.accounts[1]), 'ether'))\n",
    "\n",
    "# Owner gets 0.1 ether fee\n",
    "tx_hash = contract.functions.withdraw(w3.eth.accounts[1], w3.toWei(5, 'ether')).transact()\n",
    "w3.eth.waitForTransactionReceipt(tx_hash)\n",
    "\n",
    "user_balance.append(w3.fromWei(w3.eth.getBalance(w3.eth.accounts[1]), 'ether'))\n",
    "owner_fee = contract.functions.getBalance(w3.eth.accounts[0]).call() - owner_balance\n",
    "\n",
    "# Sum up the results\n",
    "print(\"Owners fee =\", w3.fromWei(owner_fee, 'ether'), \"ether\")\n",
    "print(\"Owners balance =\", w3.fromWei(contract.functions.getBalance(w3.eth.accounts[0]).call(), 'ether'))\n",
    "print(f'Transaction history: {user_balance[0]} -> -{user_balance[0] - user_balance[1]} \\\n",
    "-> +{user_balance[2] - user_balance[1]} = {user_balance[2]}')\n",
    "print(f'Ether loss = {user_balance[0] - user_balance[2] - 5}')"
   ]
  },
  {
   "cell_type": "code",
   "execution_count": 7,
   "metadata": {},
   "outputs": [
    {
     "name": "stdout",
     "output_type": "stream",
     "text": [
      "Users balance =  4\n",
      "Users actual balance loss = 0.00074698\n",
      "Owners balance = 1.1\n"
     ]
    }
   ],
   "source": [
    "#-----------------------------------------------\n",
    "# Test inner transfers\n",
    "#-----------------------------------------------\n",
    "user_balance = w3.fromWei(w3.eth.getBalance(w3.eth.accounts[1]), 'ether')\n",
    "\n",
    "# Send 1 ether to owner\n",
    "tx_hash = contract.functions.transferTokens(w3.eth.accounts[0], w3.toWei(1, 'ether')).transact()\n",
    "w3.eth.waitForTransactionReceipt(tx_hash)\n",
    "\n",
    "print(\"Users balance = \", w3.fromWei(contract.functions.getBalance(w3.eth.accounts[1]).call(), 'ether'))\n",
    "print(\"Users actual balance loss =\", user_balance - w3.fromWei(w3.eth.getBalance(w3.eth.accounts[1]), 'ether'))\n",
    "print(\"Owners balance =\", w3.fromWei(contract.functions.getBalance(w3.eth.accounts[0]).call(), 'ether'))"
   ]
  },
  {
   "cell_type": "code",
   "execution_count": 8,
   "metadata": {},
   "outputs": [
    {
     "name": "stdout",
     "output_type": "stream",
     "text": [
      "Initial balances: loaner = 1.1, user = 4\n",
      "Allowance from acc0 to acc1 = 1 ether\n",
      "acc0 revenue = -1.0 ether\n",
      "acc1 revenue = +1 ether\n"
     ]
    }
   ],
   "source": [
    "#-----------------------------------------------\n",
    "# Test allowance\n",
    "#-----------------------------------------------\n",
    "w3.eth.defaultAccount = w3.eth.accounts[0]\n",
    "\n",
    "# Allow w3.eth.accounts[1] use 1 ether\n",
    "tx_hash = contract.functions.setAllowance(w3.eth.accounts[1], w3.toWei(1, 'ether')).transact()\n",
    "w3.eth.waitForTransactionReceipt(tx_hash)\n",
    "\n",
    "w3.eth.defaultAccount = w3.eth.accounts[1]\n",
    "loaners_balance = w3.fromWei(contract.functions.getBalance(w3.eth.accounts[0]).call(), 'ether')\n",
    "users_balance = w3.fromWei(contract.functions.getBalance(w3.eth.accounts[1]).call(), 'ether')\n",
    "print(f'Initial balances: loaner = {loaners_balance}, user = {users_balance}')\n",
    "allowance = w3.fromWei(contract.functions.getAllowance(w3.eth.accounts[0]).call(), 'ether')\n",
    "\n",
    "# Send this ether back to acc1\n",
    "tx_hash = contract.functions.transferTokensFromTo(w3.eth.accounts[0], w3.eth.accounts[1], w3.toWei(1, 'ether')).transact()\n",
    "w3.eth.waitForTransactionReceipt(tx_hash)\n",
    "\n",
    "# Count revenue\n",
    "loaners_balance -= w3.fromWei(contract.functions.getBalance(w3.eth.accounts[0]).call(), 'ether')\n",
    "users_balance = w3.fromWei(contract.functions.getBalance(w3.eth.accounts[1]).call(), 'ether') - users_balance\n",
    "\n",
    "print(f'Allowance from acc0 to acc1 = {allowance} ether')\n",
    "print(f'acc0 revenue = -{loaners_balance} ether')\n",
    "print(f'acc1 revenue = +{users_balance} ether')"
   ]
  }
 ],
 "metadata": {
  "interpreter": {
   "hash": "31f2aee4e71d21fbe5cf8b01ff0e069b9275f58929596ceb00d14d90e3e16cd6"
  },
  "kernelspec": {
   "display_name": "Python 3.9.2 64-bit",
   "name": "python3"
  },
  "language_info": {
   "codemirror_mode": {
    "name": "ipython",
    "version": 3
   },
   "file_extension": ".py",
   "mimetype": "text/x-python",
   "name": "python",
   "nbconvert_exporter": "python",
   "pygments_lexer": "ipython3",
   "version": "3.9.2"
  },
  "orig_nbformat": 4
 },
 "nbformat": 4,
 "nbformat_minor": 2
}
